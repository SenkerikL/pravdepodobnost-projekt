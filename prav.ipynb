{
 "cells": [
  {
   "cell_type": "code",
   "execution_count": 3,
   "metadata": {},
   "outputs": [],
   "source": [
    "import numpy as np\n",
    "import matplotlib as plt"
   ]
  },
  {
   "cell_type": "code",
   "execution_count": 9,
   "metadata": {},
   "outputs": [
    {
     "ename": "IndexError",
     "evalue": "index 0 is out of bounds for axis 0 with size 0",
     "output_type": "error",
     "traceback": [
      "\u001b[0;31m---------------------------------------------------------------------------\u001b[0m",
      "\u001b[0;31mIndexError\u001b[0m                                Traceback (most recent call last)",
      "Cell \u001b[0;32mIn[9], line 11\u001b[0m\n\u001b[1;32m      8\u001b[0m Q \u001b[38;5;241m=\u001b[39m np\u001b[38;5;241m.\u001b[39marray([[\u001b[38;5;241m0.8\u001b[39m, \u001b[38;5;241m0.2\u001b[39m], [\u001b[38;5;241m0.1\u001b[39m, \u001b[38;5;241m0.9\u001b[39m]])\n\u001b[1;32m     10\u001b[0m \u001b[38;5;28;01mfor\u001b[39;00m i \u001b[38;5;129;01min\u001b[39;00m \u001b[38;5;28mrange\u001b[39m(\u001b[38;5;241m1\u001b[39m,\u001b[38;5;241m100\u001b[39m):\n\u001b[0;32m---> 11\u001b[0m     \u001b[43mcurrent_vect\u001b[49m\u001b[43m[\u001b[49m\u001b[38;5;241;43m0\u001b[39;49m\u001b[43m]\u001b[49m \u001b[38;5;241m=\u001b[39m Q[\u001b[38;5;241m1\u001b[39m, \u001b[38;5;241m0\u001b[39m] \u001b[38;5;241m*\u001b[39m lass_vect[\u001b[38;5;241m1\u001b[39m] \u001b[38;5;241m+\u001b[39m Q[\u001b[38;5;241m0\u001b[39m, \u001b[38;5;241m0\u001b[39m] \u001b[38;5;241m*\u001b[39m lass_vect[\u001b[38;5;241m0\u001b[39m]\n\u001b[1;32m     12\u001b[0m     current_vect[\u001b[38;5;241m1\u001b[39m] \u001b[38;5;241m=\u001b[39m Q[\u001b[38;5;241m1\u001b[39m, \u001b[38;5;241m1\u001b[39m] \u001b[38;5;241m*\u001b[39m lass_vect[\u001b[38;5;241m1\u001b[39m] \u001b[38;5;241m+\u001b[39m Q[\u001b[38;5;241m0\u001b[39m, \u001b[38;5;241m1\u001b[39m] \u001b[38;5;241m*\u001b[39m lass_vect[\u001b[38;5;241m0\u001b[39m]\n\u001b[1;32m     13\u001b[0m     values[i] \u001b[38;5;241m=\u001b[39m current_vect[\u001b[38;5;241m1\u001b[39m]\n",
      "\u001b[0;31mIndexError\u001b[0m: index 0 is out of bounds for axis 0 with size 0"
     ]
    }
   ],
   "source": [
    "#priklad 1. X1 aktivni s prav. 0.5\n",
    "\n",
    "lass_vect = np.array([0.5, 0.5])\n",
    "current_vect = np.array([])\n",
    "values = np.zeros(100)\n",
    "values[0] = 0.5\n",
    "\n",
    "Q = np.array([[0.8, 0.2], [0.1, 0.9]])\n",
    "\n",
    "for i in range(1,100):\n",
    "    current_vect[0] = Q[1, 0] * lass_vect[1] + Q[0, 0] * lass_vect[0]\n",
    "    current_vect[1] = Q[1, 1] * lass_vect[1] + Q[0, 1] * lass_vect[0]\n",
    "    values[i] = current_vect[1]\n",
    "    lass_vect = current_vect\n",
    "\n",
    "for i in values:\n",
    "    print(i, \" \")"
   ]
  }
 ],
 "metadata": {
  "kernelspec": {
   "display_name": "Python 3",
   "language": "python",
   "name": "python3"
  },
  "language_info": {
   "codemirror_mode": {
    "name": "ipython",
    "version": 3
   },
   "file_extension": ".py",
   "mimetype": "text/x-python",
   "name": "python",
   "nbconvert_exporter": "python",
   "pygments_lexer": "ipython3",
   "version": "3.12.1"
  }
 },
 "nbformat": 4,
 "nbformat_minor": 2
}
